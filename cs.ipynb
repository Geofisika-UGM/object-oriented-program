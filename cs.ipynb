{
 "cells": [
  {
   "cell_type": "code",
   "execution_count": 1,
   "id": "c6fccede",
   "metadata": {},
   "outputs": [],
   "source": [
    "## Penulisan string dengan variabel"
   ]
  },
  {
   "cell_type": "code",
   "execution_count": 4,
   "id": "ad31822a",
   "metadata": {},
   "outputs": [
    {
     "name": "stdout",
     "output_type": "stream",
     "text": [
      "Hi, my name's Peter Parker, my age is 15\n"
     ]
    }
   ],
   "source": [
    "# String Concatenation (pakai +)\n",
    "name = \"Peter Parker\"\n",
    "age = 15\n",
    "\n",
    "print(\"Hi, my name's \" + name + \", my age is \" + str(age))"
   ]
  },
  {
   "cell_type": "code",
   "execution_count": 5,
   "id": "61247850",
   "metadata": {},
   "outputs": [
    {
     "name": "stdout",
     "output_type": "stream",
     "text": [
      "Harry Potter must be 11 to enter Hogwarts\n"
     ]
    }
   ],
   "source": [
    "# String Formatting (pakai .format())\n",
    "\n",
    "name = \"Harry Potter\"\n",
    "age = 11\n",
    "\n",
    "print(\"{} must be {} to enter Hogwarts\".format(name,age))"
   ]
  },
  {
   "cell_type": "code",
   "execution_count": 7,
   "id": "f43d8b48",
   "metadata": {},
   "outputs": [
    {
     "name": "stdout",
     "output_type": "stream",
     "text": [
      "One Direction has 5 members\n"
     ]
    }
   ],
   "source": [
    "# f-string (cara modern, Python 3.6 ke atas)\n",
    "\n",
    "name = \"One Direction\"\n",
    "num = 5\n",
    "\n",
    "print(f\"{name} has {num} members\")"
   ]
  },
  {
   "cell_type": "code",
   "execution_count": 10,
   "id": "3e53d949",
   "metadata": {},
   "outputs": [],
   "source": [
    "## Perbedaan print dan return\n",
    "\n",
    "# print --> hanya tampil sekali di layar, gabisa dipake lagi\n",
    "# return --> hasilnya bisa disimpan, diproses, atau dicombine lagi"
   ]
  },
  {
   "cell_type": "code",
   "execution_count": 13,
   "id": "3afbde07",
   "metadata": {},
   "outputs": [
    {
     "name": "stdout",
     "output_type": "stream",
     "text": [
      "Keonho sings Go!\n"
     ]
    }
   ],
   "source": [
    "#pake print \n",
    "\n",
    "class Person:\n",
    "    def __init__(self, name, age):\n",
    "        self.name = name\n",
    "        self.age = age\n",
    "    \n",
    "    def sing(self, song):\n",
    "        print(\"{} sings {}\".format(self.name, song))\n",
    "\n",
    "cortis = Person(\"Keonho\", 16)\n",
    "\n",
    "cortis.sing(\"Go!\")"
   ]
  },
  {
   "cell_type": "code",
   "execution_count": 18,
   "id": "ccc8cd55",
   "metadata": {},
   "outputs": [
    {
     "name": "stdout",
     "output_type": "stream",
     "text": [
      "Keonho sings Go!\n",
      "in uppercase: None\n"
     ]
    }
   ],
   "source": [
    "class Person:\n",
    "    def __init__(self, name, age):\n",
    "        self.name = name\n",
    "        self.age = age\n",
    "    \n",
    "    def sing(self, song):\n",
    "        print(\"{} sings {}\".format(self.name, song))\n",
    "\n",
    "cortis = Person(\"Keonho\", 16)\n",
    "\n",
    "hasil = cortis.sing(\"Go!\")\n",
    "print(\"in uppercase:\", hasil)"
   ]
  },
  {
   "cell_type": "code",
   "execution_count": 21,
   "id": "afb44200",
   "metadata": {},
   "outputs": [
    {
     "name": "stdout",
     "output_type": "stream",
     "text": [
      "in lowercase: Juhoon sings What You Want\n",
      "in uppercase: JUHOON SINGS WHAT YOU WANT\n"
     ]
    }
   ],
   "source": [
    "#pake return\n",
    "\n",
    "class Person:\n",
    "    def __init__(self, name, age):\n",
    "        self.name = name\n",
    "        self.age = age\n",
    "    \n",
    "    def sing(self, song):\n",
    "        return \"{} sings {}\".format(self.name, song)\n",
    "\n",
    "cortis = Person(\"Juhoon\", 16)\n",
    "\n",
    "hasil = cortis.sing(\"What You Want\")\n",
    "print(\"in lowercase:\", hasil)\n",
    "print(\"in uppercase:\", hasil.upper())\n",
    "\n"
   ]
  },
  {
   "cell_type": "code",
   "execution_count": null,
   "id": "301df028",
   "metadata": {},
   "outputs": [],
   "source": []
  }
 ],
 "metadata": {
  "kernelspec": {
   "display_name": "base",
   "language": "python",
   "name": "python3"
  },
  "language_info": {
   "codemirror_mode": {
    "name": "ipython",
    "version": 3
   },
   "file_extension": ".py",
   "mimetype": "text/x-python",
   "name": "python",
   "nbconvert_exporter": "python",
   "pygments_lexer": "ipython3",
   "version": "3.13.5"
  }
 },
 "nbformat": 4,
 "nbformat_minor": 5
}
