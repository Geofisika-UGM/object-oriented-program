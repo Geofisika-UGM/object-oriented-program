{
 "cells": [
  {
   "cell_type": "code",
   "execution_count": 2,
   "id": "0b0051c5",
   "metadata": {},
   "outputs": [
    {
     "name": "stdout",
     "output_type": "stream",
     "text": [
      "I am Harry Potter\n",
      "I proudly belong to Gryffindor\n",
      "My Patronus is a Stag\n",
      "\n",
      "I am Luna Lovegood\n",
      "I proudly belong to Ravenclaw\n",
      "My Patronus is a Hare\n",
      "\n",
      "I am Severus Snape\n",
      "I proudly belong to Slytherin\n",
      "My Patronus is a Doe\n",
      "\n",
      "I am Albus Dumbledore\n",
      "I proudly belong to Gryffindor\n",
      "My Patronus is a Phoenix\n",
      "\n"
     ]
    }
   ],
   "source": [
    "class Person():\n",
    "    def __init__(self, name, house, patronus):\n",
    "        self.name = name\n",
    "        self.house = house\n",
    "        self.patronus = patronus\n",
    "\n",
    "    def character(self):\n",
    "        print(\"I am \" + self.name)\n",
    "        print(\"I proudly belong to \" + self.house)\n",
    "        print(\"My Patronus is a \" + self.patronus)\n",
    "        print()\n",
    "       \n",
    "# Creating an object of the Person class\n",
    "author = Person(\"Harry Potter\", \"Gryffindor\", \"Stag\")\n",
    "author1 = Person(\"Luna Lovegood\", \"Ravenclaw\", \"Hare\")\n",
    "author2 = Person(\"Severus Snape\", \"Slytherin\", \"Doe\")\n",
    "author3 = Person(\"Albus Dumbledore\", \"Gryffindor\", \"Phoenix\" )\n",
    "author.character()\n",
    "author1.character()\n",
    "author2.character()\n",
    "author3.character()"
   ]
  },
  {
   "cell_type": "code",
   "execution_count": 3,
   "id": "cc63e6ac",
   "metadata": {},
   "outputs": [],
   "source": [
    "class Gryffindor(object):\n",
    "    def __init__ (self, name, house):\n",
    "        self.name = name\n",
    "        self.house = house\n",
    "    \n",
    "    def display(self):\n",
    "        print(self.name)\n",
    "        print(self.house)\n",
    "        print()\n",
    "    \n",
    "    def details(self):\n",
    "        print(\"My name is {}\".format(self.name))\n",
    "        print(\"I am in {}\".format(self.house))\n",
    "        \n",
    "class Student(Gryffindor):\n",
    "    def __init__(self, name, house, subject, spell):\n",
    "        self.subject = subject\n",
    "        self.spell = spell\n",
    "        \n",
    "        Gryffindor.__init__(self, name, house)\n",
    "    \n",
    "    def details(self):\n",
    "        print(\"My name is {}\".format(self.name))\n",
    "        print(\"I am in {}\".format(self.house))\n",
    "        print(\"My favorite subject is {}\".format(self.subject))\n",
    "        print(\"{} is definitely my go-to spell!\".format(self.spell))"
   ]
  },
  {
   "cell_type": "code",
   "execution_count": 4,
   "id": "f7315bd3",
   "metadata": {},
   "outputs": [
    {
     "name": "stdout",
     "output_type": "stream",
     "text": [
      "Harry Potter\n",
      "Gryffindor\n",
      "\n",
      "My name is Harry Potter\n",
      "I am in Gryffindor\n",
      "My favorite subject is Defense Against the Dark Arts\n",
      "Expelliarmus is definitely my go-to spell!\n"
     ]
    }
   ],
   "source": [
    "student = Student(\"Harry Potter\", \"Gryffindor\", \"Defense Against the Dark Arts\", \"Expelliarmus\")\n",
    "\n",
    "student.display()\n",
    "student.details()"
   ]
  }
 ],
 "metadata": {
  "kernelspec": {
   "display_name": "base",
   "language": "python",
   "name": "python3"
  },
  "language_info": {
   "codemirror_mode": {
    "name": "ipython",
    "version": 3
   },
   "file_extension": ".py",
   "mimetype": "text/x-python",
   "name": "python",
   "nbconvert_exporter": "python",
   "pygments_lexer": "ipython3",
   "version": "3.13.5"
  }
 },
 "nbformat": 4,
 "nbformat_minor": 5
}
