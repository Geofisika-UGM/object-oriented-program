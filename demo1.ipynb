{
 "cells": [
  {
   "cell_type": "code",
   "execution_count": 4,
   "id": "543575dc",
   "metadata": {},
   "outputs": [],
   "source": [
    "#bikin class\n",
    "class metodegeofis():\n",
    "    def __init__(self, name, purpose, tool):\n",
    "        self.name = name\n",
    "        self.purpose = purpose\n",
    "        self.tool = tool\n",
    "    \n",
    "    def showinfo(self):                             #bikin method\n",
    "        print(\"metode yang dipakai:\" + self.name)\n",
    "        print(\"tujuannya nyari:\" + self.purpose)\n",
    "        print(\"metodenya pake alat:\" + self.tool)"
   ]
  },
  {
   "cell_type": "code",
   "execution_count": 5,
   "id": "3e451296",
   "metadata": {},
   "outputs": [],
   "source": [
    "#bikin objek\n",
    "metode1 = metodegeofis(\"seismik refraksi\", \"analisis tanah longsor\", \"geophone\")\n",
    "metode2 = metodegeofis(\"VES\", \"potensi air tanah\", \"elektroda\")\n"
   ]
  },
  {
   "cell_type": "code",
   "execution_count": 7,
   "id": "848a807d",
   "metadata": {},
   "outputs": [
    {
     "name": "stdout",
     "output_type": "stream",
     "text": [
      "metode yang dipakai:seismik refraksi\n",
      "tujuannya nyari:analisis tanah longsor\n",
      "metodenya pake alat:geophone\n",
      "\n",
      "metode yang dipakai:VES\n",
      "tujuannya nyari:potensi air tanah\n",
      "metodenya pake alat:elektroda\n"
     ]
    }
   ],
   "source": [
    "#manggil methods/keluarin hasil\n",
    "metode1.showinfo()\n",
    "print()\n",
    "metode2.showinfo()"
   ]
  },
  {
   "cell_type": "code",
   "execution_count": 23,
   "id": "85e2ff68",
   "metadata": {},
   "outputs": [
    {
     "name": "stdout",
     "output_type": "stream",
     "text": [
      "kiem\n",
      "royyan\n"
     ]
    }
   ],
   "source": [
    "class Hero:\n",
    "    jumlah = 0\n",
    "    def __init__(self, name, health, attack):\n",
    "        self.name = name\n",
    "        self.health = health\n",
    "        self.attack = attack\n",
    "        self.__gaji = 2_500_000\n",
    "        Hero.jumlah += 1 \n",
    "    \n",
    "    def getGaji(self):\n",
    "        print(f\"gaji dari {self.name} adalah {self.__gaji}\")\n",
    "    \n",
    "    def intro(self):\n",
    "        print(f\"hallo namaku {self.name}\")\n",
    "        \n",
    "    def menyerang(self, lawan):\n",
    "        print(f\"dara awal {lawan.name} adalah {lawan.health}\")\n",
    "        lawan.health -= self.attack\n",
    "        print(f\"dara {lawan.name} sekarang adalah {lawan.health}\")\n",
    "\n",
    "kiem = Hero('kiem', 10_000, 100)\n",
    "fani = Hero('fani', 5_000, 150)\n",
    "audit = Hero('Audit', 3, 0.5)\n",
    "adif = Hero('adif', -100, 9999999)\n",
    "print(kiem.name)\n",
    "kiem.name = \"royyan\"\n",
    "print(kiem.name)\n",
    "\n",
    "\n",
    "\n",
    "    "
   ]
  },
  {
   "cell_type": "code",
   "execution_count": null,
   "id": "f863bfbf",
   "metadata": {},
   "outputs": [],
   "source": []
  }
 ],
 "metadata": {
  "kernelspec": {
   "display_name": "base",
   "language": "python",
   "name": "python3"
  },
  "language_info": {
   "codemirror_mode": {
    "name": "ipython",
    "version": 3
   },
   "file_extension": ".py",
   "mimetype": "text/x-python",
   "name": "python",
   "nbconvert_exporter": "python",
   "pygments_lexer": "ipython3",
   "version": "3.13.5"
  }
 },
 "nbformat": 4,
 "nbformat_minor": 5
}
