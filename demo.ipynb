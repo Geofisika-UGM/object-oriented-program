{
 "cells": [
  {
   "cell_type": "code",
   "execution_count": 1,
   "id": "392ed90b",
   "metadata": {},
   "outputs": [],
   "source": [
    "class Person():                              #membuat class\n",
    "    def __init__(self, name, mbti):          #constructor\n",
    "        self.name = name                     #atribut\n",
    "        self.mbti = mbti                     #atribut\n",
    "    \n",
    "    def perkenalan(self):                    #membuat methods   \n",
    "        print(\"hi nama aku \" + self.name)   \n",
    "        print(\"mbti aku \" + self.mbti)"
   ]
  },
  {
   "cell_type": "code",
   "execution_count": 2,
   "id": "7a064242",
   "metadata": {},
   "outputs": [],
   "source": [
    "# objek = hasil nyata yg dibuat dari class\n",
    "# tiap objek punya atribut yang berbeda, meski class nya sama\n",
    "\n",
    "# membuat objek\n",
    "person1 = Person(\"Luna\",\"ENFJ\")\n",
    "person2 = Person(\"Bagas\",\"INTP\")"
   ]
  },
  {
   "cell_type": "code",
   "execution_count": 3,
   "id": "7f29f659",
   "metadata": {},
   "outputs": [
    {
     "name": "stdout",
     "output_type": "stream",
     "text": [
      "hi nama aku Luna\n",
      "mbti aku ENFJ\n",
      "hi nama aku Bagas\n",
      "mbti aku INTP\n"
     ]
    }
   ],
   "source": [
    "# fungsi biasa --> def hitung():\n",
    "# fungsi di dalam class --> methods\n",
    "# methods gabisa berdiri sendiri kayak fungsi biasa\n",
    "# methods butuh self biar tau dia milik objek yang mana\n",
    "\n",
    "# memanggil methods\n",
    "person1.perkenalan()\n",
    "person2.perkenalan()        #python otomatis kasih self=person"
   ]
  }
 ],
 "metadata": {
  "kernelspec": {
   "display_name": "base",
   "language": "python",
   "name": "python3"
  },
  "language_info": {
   "codemirror_mode": {
    "name": "ipython",
    "version": 3
   },
   "file_extension": ".py",
   "mimetype": "text/x-python",
   "name": "python",
   "nbconvert_exporter": "python",
   "pygments_lexer": "ipython3",
   "version": "3.13.5"
  }
 },
 "nbformat": 4,
 "nbformat_minor": 5
}
